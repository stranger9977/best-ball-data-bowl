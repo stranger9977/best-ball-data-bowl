{
  "cells": [
    {
      "cell_type": "markdown",
      "metadata": {
        "id": "7U1OW2ZOMZVK"
      },
      "source": [
        "#Do Bye Weeks Matter?\n",
        "\n",
        "###Participant: Lou Sherman\n",
        "####Twitter: @loudogvideo\n",
        "\n",
        "#Introduction\n",
        "This project dives into the age-old question: Do Bye Weeks Matter? In my analysis, I find the maximum number of duplicated bye weeks per BBM 2 and BBM 3 team. I then compare advance rates of teams based on the total number of duplicated bye weeks. I also split out the data by position, since a duped bye week impacts QBs more than WR, for instance."
      ]
    },
    {
      "cell_type": "markdown",
      "metadata": {
        "id": "jnCKmiJfN5gh"
      },
      "source": [
        "Frist, I load in the packages we will be using in this project"
      ]
    },
    {
      "cell_type": "code",
      "execution_count": null,
      "metadata": {
        "id": "2aOyTpiKHxwv"
      },
      "outputs": [],
      "source": [
        "#import packages\n",
        "import os\n",
        "import requests\n",
        "import numpy as np\n",
        "import pandas as pd\n",
        "import matplotlib.pyplot as plt"
      ]
    },
    {
      "cell_type": "markdown",
      "metadata": {
        "id": "8Yi3IjvNN92S"
      },
      "source": [
        "Loading best ball data from 2021 and 2022"
      ]
    },
    {
      "cell_type": "code",
      "execution_count": null,
      "metadata": {
        "colab": {
          "base_uri": "https://localhost:8080/",
          "height": 531
        },
        "id": "ELU_cW3gIl48",
        "outputId": "5524d65a-3ab1-4129-ab2c-893d8330d634"
      },
      "outputs": [
        {
          "data": {
            "text/html": [
              "\n",
              "\n",
              "  <div id=\"df-25feedf9-c3c6-49ef-8a49-6f63fa637944\">\n",
              "    <div class=\"colab-df-container\">\n",
              "      <div>\n",
              "<style scoped>\n",
              "    .dataframe tbody tr th:only-of-type {\n",
              "        vertical-align: middle;\n",
              "    }\n",
              "\n",
              "    .dataframe tbody tr th {\n",
              "        vertical-align: top;\n",
              "    }\n",
              "\n",
              "    .dataframe thead th {\n",
              "        text-align: right;\n",
              "    }\n",
              "</style>\n",
              "<table border=\"1\" class=\"dataframe\">\n",
              "  <thead>\n",
              "    <tr style=\"text-align: right;\">\n",
              "      <th></th>\n",
              "      <th>draft_id</th>\n",
              "      <th>draft_time</th>\n",
              "      <th>clock</th>\n",
              "      <th>tournament_entry_id</th>\n",
              "      <th>tournament_round_number</th>\n",
              "      <th>player_name</th>\n",
              "      <th>position_name</th>\n",
              "      <th>bye_week</th>\n",
              "      <th>projection_adp</th>\n",
              "      <th>pick_order</th>\n",
              "      <th>overall_pick_number</th>\n",
              "      <th>team_pick_number</th>\n",
              "      <th>pick_points</th>\n",
              "      <th>roster_points</th>\n",
              "      <th>playoff_team</th>\n",
              "      <th>draft_entry_id</th>\n",
              "      <th>tournament_round_draft_entry_id</th>\n",
              "    </tr>\n",
              "  </thead>\n",
              "  <tbody>\n",
              "    <tr>\n",
              "      <th>0</th>\n",
              "      <td>00009a0e-b1a6-42e0-b1cf-3f884cc0999b</td>\n",
              "      <td>2021-08-28 17:06:42.031664+00:00</td>\n",
              "      <td>30</td>\n",
              "      <td>e1fdb4f8-4da3-4a09-8e6c-ef294c053251</td>\n",
              "      <td>1</td>\n",
              "      <td>Jalen Reagor</td>\n",
              "      <td>WR</td>\n",
              "      <td>14</td>\n",
              "      <td>139.48</td>\n",
              "      <td>1</td>\n",
              "      <td>144</td>\n",
              "      <td>12</td>\n",
              "      <td>31.2</td>\n",
              "      <td>1613.92</td>\n",
              "      <td>0</td>\n",
              "      <td>NaN</td>\n",
              "      <td>NaN</td>\n",
              "    </tr>\n",
              "    <tr>\n",
              "      <th>1</th>\n",
              "      <td>00009a0e-b1a6-42e0-b1cf-3f884cc0999b</td>\n",
              "      <td>2021-08-28 17:06:42.031664+00:00</td>\n",
              "      <td>30</td>\n",
              "      <td>b1e60f0c-2982-4e5c-8f80-da9a104cb290</td>\n",
              "      <td>1</td>\n",
              "      <td>Marquez Callaway</td>\n",
              "      <td>WR</td>\n",
              "      <td>6</td>\n",
              "      <td>107.46</td>\n",
              "      <td>6</td>\n",
              "      <td>115</td>\n",
              "      <td>10</td>\n",
              "      <td>81.9</td>\n",
              "      <td>1525.06</td>\n",
              "      <td>0</td>\n",
              "      <td>NaN</td>\n",
              "      <td>NaN</td>\n",
              "    </tr>\n",
              "    <tr>\n",
              "      <th>2</th>\n",
              "      <td>00009a0e-b1a6-42e0-b1cf-3f884cc0999b</td>\n",
              "      <td>2021-08-28 17:06:42.031664+00:00</td>\n",
              "      <td>30</td>\n",
              "      <td>b1e60f0c-2982-4e5c-8f80-da9a104cb290</td>\n",
              "      <td>1</td>\n",
              "      <td>Amari Cooper</td>\n",
              "      <td>WR</td>\n",
              "      <td>7</td>\n",
              "      <td>31.75</td>\n",
              "      <td>6</td>\n",
              "      <td>30</td>\n",
              "      <td>3</td>\n",
              "      <td>116.3</td>\n",
              "      <td>1525.06</td>\n",
              "      <td>0</td>\n",
              "      <td>NaN</td>\n",
              "      <td>NaN</td>\n",
              "    </tr>\n",
              "    <tr>\n",
              "      <th>3</th>\n",
              "      <td>00009a0e-b1a6-42e0-b1cf-3f884cc0999b</td>\n",
              "      <td>2021-08-28 17:06:42.031664+00:00</td>\n",
              "      <td>30</td>\n",
              "      <td>5388d065-c260-45cc-b9bf-fcb37f767d2c</td>\n",
              "      <td>1</td>\n",
              "      <td>Rhamondre Stevenson</td>\n",
              "      <td>RB</td>\n",
              "      <td>14</td>\n",
              "      <td>171.55</td>\n",
              "      <td>11</td>\n",
              "      <td>158</td>\n",
              "      <td>14</td>\n",
              "      <td>66.5</td>\n",
              "      <td>1669.72</td>\n",
              "      <td>1</td>\n",
              "      <td>NaN</td>\n",
              "      <td>NaN</td>\n",
              "    </tr>\n",
              "    <tr>\n",
              "      <th>4</th>\n",
              "      <td>00009a0e-b1a6-42e0-b1cf-3f884cc0999b</td>\n",
              "      <td>2021-08-28 17:06:42.031664+00:00</td>\n",
              "      <td>30</td>\n",
              "      <td>5388d065-c260-45cc-b9bf-fcb37f767d2c</td>\n",
              "      <td>1</td>\n",
              "      <td>Darrynton Evans</td>\n",
              "      <td>RB</td>\n",
              "      <td>13</td>\n",
              "      <td>201.35</td>\n",
              "      <td>11</td>\n",
              "      <td>203</td>\n",
              "      <td>17</td>\n",
              "      <td>2.8</td>\n",
              "      <td>1669.72</td>\n",
              "      <td>1</td>\n",
              "      <td>NaN</td>\n",
              "      <td>NaN</td>\n",
              "    </tr>\n",
              "  </tbody>\n",
              "</table>\n",
              "</div>\n",
              "      <button class=\"colab-df-convert\" onclick=\"convertToInteractive('df-25feedf9-c3c6-49ef-8a49-6f63fa637944')\"\n",
              "              title=\"Convert this dataframe to an interactive table.\"\n",
              "              style=\"display:none;\">\n",
              "\n",
              "  <svg xmlns=\"http://www.w3.org/2000/svg\" height=\"24px\"viewBox=\"0 0 24 24\"\n",
              "       width=\"24px\">\n",
              "    <path d=\"M0 0h24v24H0V0z\" fill=\"none\"/>\n",
              "    <path d=\"M18.56 5.44l.94 2.06.94-2.06 2.06-.94-2.06-.94-.94-2.06-.94 2.06-2.06.94zm-11 1L8.5 8.5l.94-2.06 2.06-.94-2.06-.94L8.5 2.5l-.94 2.06-2.06.94zm10 10l.94 2.06.94-2.06 2.06-.94-2.06-.94-.94-2.06-.94 2.06-2.06.94z\"/><path d=\"M17.41 7.96l-1.37-1.37c-.4-.4-.92-.59-1.43-.59-.52 0-1.04.2-1.43.59L10.3 9.45l-7.72 7.72c-.78.78-.78 2.05 0 2.83L4 21.41c.39.39.9.59 1.41.59.51 0 1.02-.2 1.41-.59l7.78-7.78 2.81-2.81c.8-.78.8-2.07 0-2.86zM5.41 20L4 18.59l7.72-7.72 1.47 1.35L5.41 20z\"/>\n",
              "  </svg>\n",
              "      </button>\n",
              "\n",
              "\n",
              "\n",
              "    <div id=\"df-2374660a-1d23-4a85-9e7d-c4319a805f36\">\n",
              "      <button class=\"colab-df-quickchart\" onclick=\"quickchart('df-2374660a-1d23-4a85-9e7d-c4319a805f36')\"\n",
              "              title=\"Suggest charts.\"\n",
              "              style=\"display:none;\">\n",
              "\n",
              "<svg xmlns=\"http://www.w3.org/2000/svg\" height=\"24px\"viewBox=\"0 0 24 24\"\n",
              "     width=\"24px\">\n",
              "    <g>\n",
              "        <path d=\"M19 3H5c-1.1 0-2 .9-2 2v14c0 1.1.9 2 2 2h14c1.1 0 2-.9 2-2V5c0-1.1-.9-2-2-2zM9 17H7v-7h2v7zm4 0h-2V7h2v10zm4 0h-2v-4h2v4z\"/>\n",
              "    </g>\n",
              "</svg>\n",
              "      </button>\n",
              "    </div>\n",
              "\n",
              "<style>\n",
              "  .colab-df-quickchart {\n",
              "    background-color: #E8F0FE;\n",
              "    border: none;\n",
              "    border-radius: 50%;\n",
              "    cursor: pointer;\n",
              "    display: none;\n",
              "    fill: #1967D2;\n",
              "    height: 32px;\n",
              "    padding: 0 0 0 0;\n",
              "    width: 32px;\n",
              "  }\n",
              "\n",
              "  .colab-df-quickchart:hover {\n",
              "    background-color: #E2EBFA;\n",
              "    box-shadow: 0px 1px 2px rgba(60, 64, 67, 0.3), 0px 1px 3px 1px rgba(60, 64, 67, 0.15);\n",
              "    fill: #174EA6;\n",
              "  }\n",
              "\n",
              "  [theme=dark] .colab-df-quickchart {\n",
              "    background-color: #3B4455;\n",
              "    fill: #D2E3FC;\n",
              "  }\n",
              "\n",
              "  [theme=dark] .colab-df-quickchart:hover {\n",
              "    background-color: #434B5C;\n",
              "    box-shadow: 0px 1px 3px 1px rgba(0, 0, 0, 0.15);\n",
              "    filter: drop-shadow(0px 1px 2px rgba(0, 0, 0, 0.3));\n",
              "    fill: #FFFFFF;\n",
              "  }\n",
              "</style>\n",
              "\n",
              "    <script>\n",
              "      async function quickchart(key) {\n",
              "        const containerElement = document.querySelector('#' + key);\n",
              "        const charts = await google.colab.kernel.invokeFunction(\n",
              "            'suggestCharts', [key], {});\n",
              "      }\n",
              "    </script>\n",
              "\n",
              "      <script>\n",
              "\n",
              "function displayQuickchartButton(domScope) {\n",
              "  let quickchartButtonEl =\n",
              "    domScope.querySelector('#df-2374660a-1d23-4a85-9e7d-c4319a805f36 button.colab-df-quickchart');\n",
              "  quickchartButtonEl.style.display =\n",
              "    google.colab.kernel.accessAllowed ? 'block' : 'none';\n",
              "}\n",
              "\n",
              "        displayQuickchartButton(document);\n",
              "      </script>\n",
              "      <style>\n",
              "    .colab-df-container {\n",
              "      display:flex;\n",
              "      flex-wrap:wrap;\n",
              "      gap: 12px;\n",
              "    }\n",
              "\n",
              "    .colab-df-convert {\n",
              "      background-color: #E8F0FE;\n",
              "      border: none;\n",
              "      border-radius: 50%;\n",
              "      cursor: pointer;\n",
              "      display: none;\n",
              "      fill: #1967D2;\n",
              "      height: 32px;\n",
              "      padding: 0 0 0 0;\n",
              "      width: 32px;\n",
              "    }\n",
              "\n",
              "    .colab-df-convert:hover {\n",
              "      background-color: #E2EBFA;\n",
              "      box-shadow: 0px 1px 2px rgba(60, 64, 67, 0.3), 0px 1px 3px 1px rgba(60, 64, 67, 0.15);\n",
              "      fill: #174EA6;\n",
              "    }\n",
              "\n",
              "    [theme=dark] .colab-df-convert {\n",
              "      background-color: #3B4455;\n",
              "      fill: #D2E3FC;\n",
              "    }\n",
              "\n",
              "    [theme=dark] .colab-df-convert:hover {\n",
              "      background-color: #434B5C;\n",
              "      box-shadow: 0px 1px 3px 1px rgba(0, 0, 0, 0.15);\n",
              "      filter: drop-shadow(0px 1px 2px rgba(0, 0, 0, 0.3));\n",
              "      fill: #FFFFFF;\n",
              "    }\n",
              "  </style>\n",
              "\n",
              "      <script>\n",
              "        const buttonEl =\n",
              "          document.querySelector('#df-25feedf9-c3c6-49ef-8a49-6f63fa637944 button.colab-df-convert');\n",
              "        buttonEl.style.display =\n",
              "          google.colab.kernel.accessAllowed ? 'block' : 'none';\n",
              "\n",
              "        async function convertToInteractive(key) {\n",
              "          const element = document.querySelector('#df-25feedf9-c3c6-49ef-8a49-6f63fa637944');\n",
              "          const dataTable =\n",
              "            await google.colab.kernel.invokeFunction('convertToInteractive',\n",
              "                                                     [key], {});\n",
              "          if (!dataTable) return;\n",
              "\n",
              "          const docLinkHtml = 'Like what you see? Visit the ' +\n",
              "            '<a target=\"_blank\" href=https://colab.research.google.com/notebooks/data_table.ipynb>data table notebook</a>'\n",
              "            + ' to learn more about interactive tables.';\n",
              "          element.innerHTML = '';\n",
              "          dataTable['output_type'] = 'display_data';\n",
              "          await google.colab.output.renderOutput(dataTable, element);\n",
              "          const docLink = document.createElement('div');\n",
              "          docLink.innerHTML = docLinkHtml;\n",
              "          element.appendChild(docLink);\n",
              "        }\n",
              "      </script>\n",
              "    </div>\n",
              "  </div>\n"
            ],
            "text/plain": [
              "                               draft_id                        draft_time  \\\n",
              "0  00009a0e-b1a6-42e0-b1cf-3f884cc0999b  2021-08-28 17:06:42.031664+00:00   \n",
              "1  00009a0e-b1a6-42e0-b1cf-3f884cc0999b  2021-08-28 17:06:42.031664+00:00   \n",
              "2  00009a0e-b1a6-42e0-b1cf-3f884cc0999b  2021-08-28 17:06:42.031664+00:00   \n",
              "3  00009a0e-b1a6-42e0-b1cf-3f884cc0999b  2021-08-28 17:06:42.031664+00:00   \n",
              "4  00009a0e-b1a6-42e0-b1cf-3f884cc0999b  2021-08-28 17:06:42.031664+00:00   \n",
              "\n",
              "   clock                   tournament_entry_id  tournament_round_number  \\\n",
              "0     30  e1fdb4f8-4da3-4a09-8e6c-ef294c053251                        1   \n",
              "1     30  b1e60f0c-2982-4e5c-8f80-da9a104cb290                        1   \n",
              "2     30  b1e60f0c-2982-4e5c-8f80-da9a104cb290                        1   \n",
              "3     30  5388d065-c260-45cc-b9bf-fcb37f767d2c                        1   \n",
              "4     30  5388d065-c260-45cc-b9bf-fcb37f767d2c                        1   \n",
              "\n",
              "           player_name position_name  bye_week  projection_adp  pick_order  \\\n",
              "0         Jalen Reagor            WR        14          139.48           1   \n",
              "1     Marquez Callaway            WR         6          107.46           6   \n",
              "2         Amari Cooper            WR         7           31.75           6   \n",
              "3  Rhamondre Stevenson            RB        14          171.55          11   \n",
              "4      Darrynton Evans            RB        13          201.35          11   \n",
              "\n",
              "   overall_pick_number  team_pick_number  pick_points  roster_points  \\\n",
              "0                  144                12         31.2        1613.92   \n",
              "1                  115                10         81.9        1525.06   \n",
              "2                   30                 3        116.3        1525.06   \n",
              "3                  158                14         66.5        1669.72   \n",
              "4                  203                17          2.8        1669.72   \n",
              "\n",
              "   playoff_team draft_entry_id tournament_round_draft_entry_id  \n",
              "0             0            NaN                             NaN  \n",
              "1             0            NaN                             NaN  \n",
              "2             0            NaN                             NaN  \n",
              "3             1            NaN                             NaN  \n",
              "4             1            NaN                             NaN  "
            ]
          },
          "execution_count": 2,
          "metadata": {},
          "output_type": "execute_result"
        }
      ],
      "source": [
        "def fetch_csv_from_github(api_url):\n",
        "    response = requests.get(api_url)\n",
        "    if response.status_code == 200:\n",
        "        data = response.json()\n",
        "        csv_files = [file['download_url'] for file in data if file['name'].endswith('.csv')]\n",
        "        df = pd.concat([pd.read_csv(url) for url in csv_files], ignore_index=True)\n",
        "        return df\n",
        "    else:\n",
        "        print(f\"Failed to fetch CSV from {api_url}. Status code: {response.status_code}\")\n",
        "        return None\n",
        "\n",
        "data = pd.DataFrame()\n",
        "\n",
        "# 2021 regular season data\n",
        "github_api_url = \"https://api.github.com/repos/fantasydatapros/best-ball-data-bowl/contents/data/2021/regular_season\"\n",
        "df_21 = fetch_csv_from_github(github_api_url)\n",
        "\n",
        "# 2022 regular season data - fasts\n",
        "github_api_url = \"https://api.github.com/repos/fantasydatapros/best-ball-data-bowl/contents/data/2022/regular_season/fast\"\n",
        "df_22_fast = fetch_csv_from_github(github_api_url)\n",
        "\n",
        "# 2022 regular season data - slows\n",
        "github_api_url = \"https://api.github.com/repos/fantasydatapros/best-ball-data-bowl/contents/data/2022/regular_season/mixed\"\n",
        "df_22_slow = fetch_csv_from_github(github_api_url)\n",
        "\n",
        "df_22 = pd.concat([df_22_fast, df_22_slow], ignore_index=True)\n",
        "\n",
        "# 2022 postseason data\n",
        "github_api_url = 'https://api.github.com/repos/fantasydatapros/best-ball-data-bowl/contents/data/2022/post_season/quarterfinals/'\n",
        "df_22_post = fetch_csv_from_github(github_api_url)\n",
        "\n",
        "#Get unique tournament_entry_id from the 'df_22_post' DataFrame\n",
        "playoffs_2022 = df_22_post['tournament_entry_id'].unique()\n",
        "\n",
        "# Modify fast DataFrame\n",
        "df_22['playoff_team'] = df_22['tournament_entry_id'].isin(playoffs_2022).astype(int)\n",
        "\n",
        "data = pd.concat([df_21,df_22], ignore_index=True)\n",
        "data.head()"
      ]
    },
    {
      "cell_type": "markdown",
      "metadata": {
        "id": "hEXNmfJuPzTK"
      },
      "source": [
        "Here, I create a new column in the data called 'position_bye\" which is a concatenation of the position and bye week fields to create values such as \"QB_9\" or \"WR_7.\" This field will be used later to help group players with similar byes AND positions."
      ]
    },
    {
      "cell_type": "code",
      "execution_count": null,
      "metadata": {
        "id": "B5bb600NuTu-"
      },
      "outputs": [],
      "source": [
        "# Create a DataFrame from your data\n",
        "df = pd.DataFrame(data)\n",
        "# Create a column for position with byes\n",
        "df['position_bye'] = df['position_name'] + '_' + df['bye_week'].astype(str)\n",
        "\n",
        "def get_unique_duplicate_counts_by_tournament_entry_id(df):\n",
        "    unique_duplicate_counts_by_tournament_entry_id = {}\n",
        "\n",
        "    grouped_data = df.groupby('tournament_entry_id')\n",
        "\n",
        "    for tournament_entry_id, group_data in grouped_data:\n",
        "        bye_weeks = group_data['bye_week']\n",
        "\n",
        "        # Count all duplicates (keep=False) and then calculate the number of unique duplicates\n",
        "        duplicate_count = bye_weeks.duplicated(keep=False).sum()\n",
        "        unique_duplicate_counts_by_tournament_entry_id[tournament_entry_id] = duplicate_count\n",
        "\n",
        "    return unique_duplicate_counts_by_tournament_entry_id\n",
        "\n",
        "unique_duplicate_counts_by_tournament_entry_id = get_unique_duplicate_counts_by_tournament_entry_id(df)"
      ]
    },
    {
      "cell_type": "markdown",
      "metadata": {
        "id": "fNOWWD8hRAmr"
      },
      "source": [
        "Now, let's begin working with the data. Here, we group the entries by the bye week column and find the maximum number of same bye weeks for each entry. We then bring in the playoff team column from our original data set to calculate the average playoff rate (playoff advance rate).\n",
        "\n",
        "Now, some of the counts have a low sample size, so I group them together into bucket for simplicity."
      ]
    },
    {
      "cell_type": "markdown",
      "metadata": {
        "id": "ApYK6uJ_fpJM"
      },
      "source": [
        "####We see a few things in the below data:\n",
        "1. Most playoff teams have 4 or 5 players with a duped bye week.\n",
        "2. Having more than 5 players on the same bye is when you begin to decrease in advance rate."
      ]
    },
    {
      "cell_type": "code",
      "execution_count": null,
      "metadata": {
        "colab": {
          "base_uri": "https://localhost:8080/",
          "height": 582
        },
        "id": "r0961jzRhzqX",
        "outputId": "424de8ee-c44c-40cb-8013-212e174c8940"
      },
      "outputs": [
        {
          "name": "stdout",
          "output_type": "stream",
          "text": [
            "  count  playoff_team\n",
            "0   2-3          5483\n",
            "1     4         35351\n",
            "2     5         35921\n",
            "3     6         16803\n",
            "4    7+          7562\n"
          ]
        },
        {
          "data": {
            "image/png": "[encoded data removed]",
            "text/plain": [
              "<Figure size 640x480 with 1 Axes>"
            ]
          },
          "metadata": {},
          "output_type": "display_data"
        }
      ],
      "source": [
        " # Group by draft_entry_id and bye_week to count players with the same bye week\n",
        "bye_week_counts = df.groupby(['tournament_entry_id', 'bye_week']).size().reset_index(name='count')\n",
        "\n",
        "# For each draft_entry_id, get the max count of players with the same bye week\n",
        "max_bye_week_counts = bye_week_counts.groupby('tournament_entry_id')['count'].max().reset_index()\n",
        "\n",
        "# Merge with original dataframe to get playoff_team values\n",
        "merged = pd.merge(max_bye_week_counts, df[['tournament_entry_id', 'playoff_team']], on='tournament_entry_id', how='left').drop_duplicates()\n",
        "\n",
        "# Define a function to group the buckets\n",
        "def group_buckets(x):\n",
        "    if x in [2, 3]:\n",
        "        return '2-3'\n",
        "    elif x >= 7:\n",
        "        return '7+'\n",
        "    else:\n",
        "        return str(x)\n",
        "\n",
        "# Apply the function to the 'count' column\n",
        "merged['count'] = merged['count'].apply(group_buckets)\n",
        "\n",
        "# Group by the max count (bucket) and calculate the rate of playoff_team = 1\n",
        "playoff_rates = merged.groupby('count')['playoff_team'].mean().reset_index()\n",
        "\n",
        "# Group by the max count (bucket) and calculate the total count of teams\n",
        "playoff_counts = merged.groupby('count')['playoff_team'].sum().reset_index()\n",
        "\n",
        "print(playoff_counts)\n",
        "\n",
        "# Plot\n",
        "plt.bar(playoff_rates['count'], playoff_rates['playoff_team'])\n",
        "plt.xlabel('Number of Players with Same Bye Week')\n",
        "plt.ylabel('Playoff Advance Rate')\n",
        "plt.title('Playoff Advance Rate by Bye Week Concentration')\n",
        "\n",
        "# Add the percentage on each bar\n",
        "for i, v in enumerate(playoff_rates['playoff_team']):\n",
        "    plt.text(i, v, f\"{v*100:.1f}%\", ha='center', va='bottom')\n",
        "\n",
        "plt.show()"
      ]
    },
    {
      "cell_type": "markdown",
      "metadata": {
        "id": "r5VtwOW9heKo"
      },
      "source": [
        "Now let's start to break things down by position. Here we filter by QBs. Most teams (~84%) have avoided duplicated bye weeks on QBs, with a small sample (<1%) of teams having 3 or more."
      ]
    },
    {
      "cell_type": "code",
      "execution_count": null,
      "metadata": {
        "colab": {
          "base_uri": "https://localhost:8080/",
          "height": 619
        },
        "id": "YzSTbb8qJOoK",
        "outputId": "5f217c37-ca1a-4849-f83f-bc716b505068"
      },
      "outputs": [
        {
          "name": "stdout",
          "output_type": "stream",
          "text": [
            "  count  playoff_team\n",
            "0     1         87474\n",
            "1     2         13387\n",
            "2    3+           259\n",
            "  Bucket  Number of Unique Players\n",
            "0      1                    510474\n",
            "1      2                     93668\n",
            "2     3+                      2433\n"
          ]
        },
        {
          "data": {
            "image/png": "[encoded data removed]",
            "text/plain": [
              "<Figure size 640x480 with 1 Axes>"
            ]
          },
          "metadata": {},
          "output_type": "display_data"
        }
      ],
      "source": [
        "filtered_df = df[df['position_name'] == 'QB']\n",
        "\n",
        "# Group by draft_entry_id and bye_week to count players with the same bye week\n",
        "bye_week_counts = filtered_df.groupby(['tournament_entry_id', 'position_bye']).size().reset_index(name='count')\n",
        "\n",
        "# For each draft_entry_id, get the max count of players with the same bye week\n",
        "max_bye_week_counts = bye_week_counts.groupby('tournament_entry_id')['count'].max().reset_index()\n",
        "\n",
        "# Merge with the original DataFrame to get playoff_team values\n",
        "merged = pd.merge(max_bye_week_counts, filtered_df[['tournament_entry_id', 'playoff_team']], on='tournament_entry_id', how='left').drop_duplicates()\n",
        "\n",
        "# Define a function to group the buckets\n",
        "def group_buckets(x):\n",
        "    if x >= 3:\n",
        "        return '3+'\n",
        "    else:\n",
        "        return str(x)\n",
        "\n",
        "# Apply the function to the 'count' column\n",
        "merged['count'] = merged['count'].apply(group_buckets)\n",
        "\n",
        "# Group by the new 'count' groups and calculate the rate of playoff_team = 1\n",
        "playoff_rates = merged.groupby('count')['playoff_team'].mean().reset_index()\n",
        "\n",
        "# Group by the max count (bucket) and calculate the total count of teams\n",
        "playoff_counts = merged.groupby('count')['playoff_team'].sum().reset_index()\n",
        "\n",
        "print(playoff_counts)\n",
        "\n",
        "# Count the number of unique players in each bucket after grouping\n",
        "unique_players_after_grouping = merged.groupby('count')['tournament_entry_id'].nunique().reset_index()\n",
        "unique_players_after_grouping.columns = ['Bucket', 'Number of Unique Players']\n",
        "\n",
        "print(unique_players_after_grouping)\n",
        "\n",
        "# Plot\n",
        "plt.bar(playoff_rates['count'], playoff_rates['playoff_team'])\n",
        "plt.xlabel('Number of QB with Same Bye Week')\n",
        "plt.ylabel('Playoff Advance Rate')\n",
        "plt.title(f'Playoff Advance Rate (QB)')\n",
        "\n",
        "# Add the percentage on each bar\n",
        "for i, v in enumerate(playoff_rates['playoff_team']):\n",
        "    plt.text(i, v, f\"{v*100:.1f}%\", ha='center', va='bottom')\n",
        "\n",
        "plt.show()"
      ]
    },
    {
      "cell_type": "markdown",
      "metadata": {
        "id": "_D6lay31jKpY"
      },
      "source": [
        "Now for the fun part. In this step, we break out maximum bye weeks by position. Does it matter if you have a QB stacked with a WR with the same bye week? Probably not. We do want to know, however, the impact of having multiple RB from the same bye week."
      ]
    },
    {
      "cell_type": "markdown",
      "metadata": {
        "id": "xvaL9X29mo3C"
      },
      "source": [
        "####We see a few things in the below data:\n",
        "1. Duplicating QB bye weeks seems to have the biggest effect on advance rate.\n",
        "2. Every position drops off at 3\n",
        "3. RBs most commonly have 2 shared bye weeks.\n",
        "4. Most teams have at least 2 WR on the same bye, likely due to double stacking and higher volume of WR drafted than other positions."
      ]
    },
    {
      "cell_type": "code",
      "execution_count": null,
      "metadata": {
        "colab": {
          "background_save": true,
          "base_uri": "https://localhost:8080/"
        },
        "id": "liXC0LBLJvvv",
        "outputId": "d75780ee-1286-48b1-c7ed-a509ed59b194"
      },
      "outputs": [
        {
          "name": "stdout",
          "output_type": "stream",
          "text": [
            "  Bucket  Number of Unique Players\n",
            "0      1                    510474\n",
            "1      2                     93668\n",
            "2     3+                      2433\n",
            "  Bucket  Number of Unique Players\n",
            "0      1                    133105\n",
            "1      2                    383416\n",
            "2     3+                     90054\n",
            "  Bucket  Number of Unique Players\n",
            "0      1                     15821\n",
            "1      2                    326428\n",
            "2     3+                    264326\n",
            "  Bucket  Number of Unique Players\n",
            "0      1                    508300\n",
            "1      2                     96114\n",
            "2     3+                      2161\n"
          ]
        },
        {
          "data": {
            "image/png": "[encoded data removed]",
            "text/plain": [
              "<Figure size 640x480 with 1 Axes>"
            ]
          },
          "metadata": {},
          "output_type": "display_data"
        }
      ],
      "source": [
        "#Filter the DataFrame for the position_name 'QB'\n",
        "position_name_qb = \"QB\"\n",
        "filtered_df_qb = df[df['position_name'] == 'QB']\n",
        "\n",
        "# Filter the DataFrame for the position_name 'RB'\n",
        "df['position_name'] = df['position_name'].replace('FB', 'RB')\n",
        "position_name_rb = \"RB\"\n",
        "filtered_df_rb = df[df['position_name'] == 'RB']\n",
        "\n",
        "# Filter the DataFrame for the position_name 'WR'\n",
        "position_name_wr = \"WR\"\n",
        "filtered_df_wr = df[df['position_name'] == 'WR']\n",
        "\n",
        "# Filter the DataFrame for the position_name 'TE'\n",
        "position_name_te = \"TE\"\n",
        "filtered_df_te = df[df['position_name'] == 'TE']\n",
        "\n",
        "# Function to group the buckets\n",
        "def group_buckets(x):\n",
        "    if x >= 3:\n",
        "        return '3+'\n",
        "    else:\n",
        "        return str(x)\n",
        "\n",
        "# Create a function to plot the data for each position\n",
        "def plot_position_data(position_df, position_name, position_index, total_positions):\n",
        "    # Group by draft_entry_id and bye_week to count players with the same bye week\n",
        "    bye_week_counts = position_df.groupby(['tournament_entry_id', 'position_bye']).size().reset_index(name='count')\n",
        "\n",
        "    # For each draft_entry_id, get the max count of players with the same bye week\n",
        "    max_bye_week_counts = bye_week_counts.groupby('tournament_entry_id')['count'].max().reset_index()\n",
        "\n",
        "    # Merge with the original DataFrame to get playoff_team values\n",
        "    merged = pd.merge(max_bye_week_counts, position_df[['tournament_entry_id', 'playoff_team']], on='tournament_entry_id', how='left').drop_duplicates()\n",
        "\n",
        "    # Apply the function to the 'count' column\n",
        "    merged['count'] = merged['count'].apply(group_buckets)\n",
        "\n",
        "    # Group by the new 'count' groups and calculate the rate of playoff_team = 1\n",
        "    playoff_rates = merged.groupby('count')['playoff_team'].mean().reset_index()\n",
        "\n",
        "    # Count the number of unique players in each bucket after grouping\n",
        "    unique_players_after_grouping = merged.groupby('count')['tournament_entry_id'].nunique().reset_index()\n",
        "    unique_players_after_grouping.columns = ['Bucket', 'Number of Unique Players']\n",
        "\n",
        "    print(unique_players_after_grouping)\n",
        "\n",
        "    # Set the width of the bars and adjust x position for side-by-side placement\n",
        "    bar_width = 0.2\n",
        "    x_positions = np.arange(len(playoff_rates)) + (bar_width * (position_index - total_positions/2))\n",
        "\n",
        "    # Plot\n",
        "    plt.bar(x_positions, playoff_rates['playoff_team'], width=bar_width, label=position_name)\n",
        "\n",
        "     # Add the percentage on each bar\n",
        "    for i, v in enumerate(playoff_rates['playoff_team']):\n",
        "        plt.text(x_positions[i], v, f\"{v*100:.1f}%\", ha='center', va='bottom', fontsize=6)\n",
        "\n",
        "# Plot data for 'QB'\n",
        "plot_position_data(filtered_df_qb, position_name_qb, 1, 4)\n",
        "\n",
        "# Plot data for 'RB'\n",
        "plot_position_data(filtered_df_rb, position_name_rb, 2, 4)\n",
        "\n",
        "# Plot data for 'WR'\n",
        "plot_position_data(filtered_df_wr, position_name_wr, 3, 4)\n",
        "\n",
        "# Plot data for 'TE'\n",
        "plot_position_data(filtered_df_te, position_name_te, 4, 4)\n",
        "\n",
        "plt.xlabel('Number of Players with Same Bye Week')\n",
        "plt.ylabel('Playoff Advance Rate')\n",
        "plt.title('Playoff Advance Rate by Bye Week Concentration')\n",
        "plt.xticks(np.arange(len(playoff_rates)) + 0.25, playoff_rates['count'])\n",
        "legend = plt.legend(loc='lower center', frameon=True, ncol=2, fontsize=6)\n",
        "\n",
        "plt.show()"
      ]
    },
    {
      "cell_type": "markdown",
      "metadata": {
        "id": "QMLJldggA4OB"
      },
      "source": [
        "About 44% of WR values were at 3+ so I wanted to break out 3 and 4. I do that below."
      ]
    },
    {
      "cell_type": "code",
      "execution_count": null,
      "metadata": {
        "colab": {
          "background_save": true
        },
        "id": "5aiKHaSj_ewP",
        "outputId": "f630f4a8-f73c-4f52-a515-290ea0b89eeb"
      },
      "outputs": [
        {
          "name": "stdout",
          "output_type": "stream",
          "text": [
            "  count  playoff_team\n",
            "0     1          2427\n",
            "1     2         55301\n",
            "2     3         35823\n",
            "3    4+          7569\n",
            "  Bucket  Number of Unique Players\n",
            "0      1                     15821\n",
            "1      2                    326428\n",
            "2      3                    215897\n",
            "3     4+                     48429\n"
          ]
        },
        {
          "data": {
            "image/png": "[encoded data removed]",
            "text/plain": [
              "<Figure size 640x480 with 1 Axes>"
            ]
          },
          "metadata": {},
          "output_type": "display_data"
        }
      ],
      "source": [
        "filtered_df = df[df['position_name'] == 'WR']\n",
        "\n",
        "# Group by draft_entry_id and bye_week to count players with the same bye week\n",
        "bye_week_counts = filtered_df.groupby(['tournament_entry_id', 'position_bye']).size().reset_index(name='count')\n",
        "\n",
        "# For each draft_entry_id, get the max count of players with the same bye week\n",
        "max_bye_week_counts = bye_week_counts.groupby('tournament_entry_id')['count'].max().reset_index()\n",
        "\n",
        "# Merge with the original DataFrame to get playoff_team values\n",
        "merged = pd.merge(max_bye_week_counts, filtered_df[['tournament_entry_id', 'playoff_team']], on='tournament_entry_id', how='left').drop_duplicates()\n",
        "\n",
        "# Define a function to group the buckets\n",
        "def group_buckets(x):\n",
        "    if x >= 4:\n",
        "        return '4+'\n",
        "    else:\n",
        "        return str(x)\n",
        "\n",
        "# Apply the function to the 'count' column\n",
        "merged['count'] = merged['count'].apply(group_buckets)\n",
        "\n",
        "# Group by the new 'count' groups and calculate the rate of playoff_team = 1\n",
        "playoff_rates = merged.groupby('count')['playoff_team'].mean().reset_index()\n",
        "\n",
        "# Group by the max count (bucket) and calculate the total count of teams\n",
        "playoff_counts = merged.groupby('count')['playoff_team'].sum().reset_index()\n",
        "\n",
        "print(playoff_counts)\n",
        "\n",
        "# Count the number of unique players in each bucket after grouping\n",
        "unique_players_after_grouping = merged.groupby('count')['tournament_entry_id'].nunique().reset_index()\n",
        "unique_players_after_grouping.columns = ['Bucket', 'Number of Unique Players']\n",
        "\n",
        "print(unique_players_after_grouping)\n",
        "\n",
        "# Plot\n",
        "plt.bar(playoff_rates['count'], playoff_rates['playoff_team'])\n",
        "plt.xlabel('Number of WR with Same Bye Week')\n",
        "plt.ylabel('Playoff Advance Rate')\n",
        "plt.title(f'Playoff Advance Rate (WR)')\n",
        "\n",
        "# Add the percentage on each bar\n",
        "for i, v in enumerate(playoff_rates['playoff_team']):\n",
        "    plt.text(i, v, f\"{v*100:.1f}%\", ha='center', va='bottom')\n",
        "\n",
        "plt.show()"
      ]
    },
    {
      "cell_type": "markdown",
      "metadata": {
        "id": "zdS799lSvzu_"
      },
      "source": [
        "##Conclusion\n",
        "The bye week bros might be on to something here. From the sample data, we can conclude that teams that have fewer duplicated bye weeks amongst their lineups are expected to have a higher chance at making the playoffs in Best Ball Mania. You really begin to lose advance equity as a whole team once you get up to 6 duplicated bye weeks.\n",
        "\n",
        "The data also seems to show that as you continue to add more players with the same bye week, there are \"diminishing returns,\" with the dropoff happening around 6 players.\n",
        "\n",
        "At the position level, duplicated bye weeks affect QBs the most and WRs the least. You can have 2 players at the same position with the same bye week, but once you get to 3 it gets worrisome.\n",
        "\n",
        "We might not have enough data yet to come up with a concrete conclusion. It would be interesting to re-run this project in a couple of years with more data points. But as it stands now, don't get carried away with too many players on the same bye week."
      ]
    },
    {
      "cell_type": "code",
      "execution_count": null,
      "metadata": {
        "colab": {
          "background_save": true
        },
        "id": "fBY5f0s6mXGp"
      },
      "outputs": [],
      "source": []
    }
  ],
  "metadata": {
    "colab": {
      "provenance": []
    },
    "kernelspec": {
      "display_name": "Python 3",
      "name": "python3"
    },
    "language_info": {
      "name": "python"
    }
  },
  "nbformat": 4,
  "nbformat_minor": 0
}
